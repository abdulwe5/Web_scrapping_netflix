{
 "cells": [
  {
   "cell_type": "code",
   "execution_count": 1,
   "id": "ade1fedd-55b2-4b66-9115-665cb733f8b1",
   "metadata": {},
   "outputs": [],
   "source": [
    "import pandas as pd\n",
    "import requests\n",
    "from bs4 import BeautifulSoup\n"
   ]
  },
  {
   "cell_type": "code",
   "execution_count": 12,
   "id": "0637a390-8b7c-4fbe-89e6-49e218776150",
   "metadata": {},
   "outputs": [],
   "source": [
    "url =\"https://www.netflix.com/tudum/top10/tv\""
   ]
  },
  {
   "cell_type": "code",
   "execution_count": 16,
   "id": "4f28d656-b53a-44b6-8bf7-729b190ef353",
   "metadata": {},
   "outputs": [
    {
     "name": "stdout",
     "output_type": "stream",
     "text": [
      "<Response [200]>\n"
     ]
    }
   ],
   "source": [
    "res= requests.get(url)\n",
    "print(res)"
   ]
  },
  {
   "cell_type": "code",
   "execution_count": 143,
   "id": "000a76f8-e58d-4ae4-bc2b-bb4e6ea6f9ba",
   "metadata": {},
   "outputs": [],
   "source": [
    "soup = BeautifulSoup(res.text,\"lxml\")\n",
    "# print(soup)"
   ]
  },
  {
   "cell_type": "code",
   "execution_count": 141,
   "id": "0e33472b-e1dc-41aa-8d7b-afe6973d86cf",
   "metadata": {},
   "outputs": [
    {
     "name": "stdout",
     "output_type": "stream",
     "text": [
      "['Beauty in Black: Season 1', 'Territory: Season 1', 'The Diplomat: Season 2', 'This Is the Zodiac Speaking: Season 1', 'The Lincoln Lawyer: Season 3', 'The Manhattan Alien Abduction: Season 1', 'Nobody Wants This: Season 1', 'Outer Banks: Season 4', 'Monsters: The Lyle and Erik Menendez Story', 'My Wife My Abuser: Captured On Camera: Season 1']\n",
      "['1', '2', '3', '4', '5', '6', '7', '8', '9', '10']\n"
     ]
    }
   ],
   "source": [
    "movieList=[]\n",
    "ratingslist=[]\n",
    "unorderedLists = soup.select(\"td.pb-2.tbl-cell.tbl-cell-name\")\n",
    "\n",
    "for elements in unorderedLists:\n",
    "    movieList.append(elements.text)\n",
    "\n",
    "print(movieList)\n",
    "unorderedRatings = soup.select(\"td.pb-2.tbl-cell.tbl-cell-rank\")\n",
    "for elements in unorderedRatings:\n",
    "    ratingslist.append(elements.text)\n",
    "\n",
    "print(ratingslist)"
   ]
  },
  {
   "cell_type": "code",
   "execution_count": 135,
   "id": "ac159276-8dba-4a25-af8a-4588be5d5f0c",
   "metadata": {},
   "outputs": [],
   "source": [
    "moviesRecommendation =[]\n",
    "for i in range(0,5):\n",
    "    movie={\n",
    "        \"name\": movieList[i],\n",
    "        \"ranking\": ratingslist[i]\n",
    "    }\n",
    "    moviesRecommendation.append(movie)"
   ]
  },
  {
   "cell_type": "code",
   "execution_count": 137,
   "id": "5fa7362d-d348-4f53-8c0a-974efaf719a0",
   "metadata": {},
   "outputs": [
    {
     "name": "stdout",
     "output_type": "stream",
     "text": [
      "{'name': 'Beauty in Black: Season 1', 'ranking': '1'}\n",
      "{'name': 'Territory: Season 1', 'ranking': '2'}\n",
      "{'name': 'The Diplomat: Season 2', 'ranking': '3'}\n",
      "{'name': 'This Is the Zodiac Speaking: Season 1', 'ranking': '4'}\n",
      "{'name': 'The Lincoln Lawyer: Season 3', 'ranking': '5'}\n"
     ]
    }
   ],
   "source": [
    "for movie in moviesRecommendation:\n",
    "    print(movie)"
   ]
  },
  {
   "cell_type": "code",
   "execution_count": null,
   "id": "a6c24dd8-6d3d-43f1-b7be-bbc5a3845904",
   "metadata": {},
   "outputs": [],
   "source": []
  }
 ],
 "metadata": {
  "kernelspec": {
   "display_name": "Python 3 (ipykernel)",
   "language": "python",
   "name": "python3"
  },
  "language_info": {
   "codemirror_mode": {
    "name": "ipython",
    "version": 3
   },
   "file_extension": ".py",
   "mimetype": "text/x-python",
   "name": "python",
   "nbconvert_exporter": "python",
   "pygments_lexer": "ipython3",
   "version": "3.12.4"
  }
 },
 "nbformat": 4,
 "nbformat_minor": 5
}
